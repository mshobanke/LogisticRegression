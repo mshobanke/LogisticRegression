{
 "cells": [
  {
   "cell_type": "code",
   "execution_count": 60,
   "metadata": {
    "id": "BalezEXDsNaa"
   },
   "outputs": [],
   "source": [
    "import pandas as pd\n",
    "import numpy as np\n",
    "import seaborn as sns\n",
    "from sklearn.feature_selection import chi2\n",
    "from sklearn.preprocessing import MinMaxScaler\n",
    "from sklearn.model_selection import train_test_split as tts\n",
    "from sklearn.linear_model import LogisticRegression\n",
    "from sklearn.metrics import f1_score, confusion_matrix\n",
    "import matplotlib.pyplot as plt\n",
    "\n",
    "from Logit import logFit, logPredict"
   ]
  },
  {
   "cell_type": "code",
   "execution_count": 2,
   "metadata": {
    "colab": {
     "base_uri": "https://localhost:8080/"
    },
    "id": "dsE7JravsV3e",
    "outputId": "e4a8aeb1-dbf1-495b-cd71-575cf933d19d"
   },
   "outputs": [
    {
     "data": {
      "text/plain": [
       "male               0\n",
       "age                0\n",
       "education          0\n",
       "currentSmoker      0\n",
       "cigsPerDay         0\n",
       "BPMeds             0\n",
       "prevalentStroke    0\n",
       "prevalentHyp       0\n",
       "diabetes           0\n",
       "totChol            0\n",
       "sysBP              0\n",
       "diaBP              0\n",
       "BMI                0\n",
       "heartRate          0\n",
       "glucose            0\n",
       "TenYearCHD         0\n",
       "dtype: int64"
      ]
     },
     "execution_count": 2,
     "metadata": {},
     "output_type": "execute_result"
    }
   ],
   "source": [
    "df = pd.read_csv(\"framingham.csv\")\n",
    "df.dropna(axis=0, inplace=True)\n",
    "df.isnull().sum()"
   ]
  },
  {
   "cell_type": "code",
   "execution_count": 3,
   "metadata": {
    "colab": {
     "base_uri": "https://localhost:8080/",
     "height": 279
    },
    "id": "BZdxvjafD7y0",
    "outputId": "334ac762-9b2f-4e01-e20b-36acb8082551"
   },
   "outputs": [
    {
     "data": {
      "image/png": "[encoded data removed]",
      "text/plain": [
       "<Figure size 640x480 with 1 Axes>"
      ]
     },
     "metadata": {},
     "output_type": "display_data"
    }
   ],
   "source": [
    "sns.countplot(x=\"TenYearCHD\", data=df)\n",
    "plt.show()"
   ]
  },
  {
   "cell_type": "code",
   "execution_count": 4,
   "metadata": {
    "colab": {
     "base_uri": "https://localhost:8080/"
    },
    "id": "rCvdcORvsivI",
    "outputId": "82d700ef-f536-4755-c73b-367fed606fd0"
   },
   "outputs": [
    {
     "data": {
      "text/plain": [
       "male               0.091745\n",
       "age                0.233810\n",
       "education         -0.063068\n",
       "currentSmoker      0.019176\n",
       "cigsPerDay         0.052159\n",
       "BPMeds             0.089116\n",
       "prevalentStroke    0.048351\n",
       "prevalentHyp       0.181556\n",
       "diabetes           0.093397\n",
       "totChol            0.091127\n",
       "sysBP              0.222885\n",
       "diaBP              0.150342\n",
       "BMI                0.081931\n",
       "heartRate          0.020523\n",
       "glucose            0.121942\n",
       "TenYearCHD         1.000000\n",
       "Name: TenYearCHD, dtype: float64"
      ]
     },
     "execution_count": 4,
     "metadata": {},
     "output_type": "execute_result"
    }
   ],
   "source": [
    "#check correlation matrix\n",
    "df.corr()[\"TenYearCHD\"]"
   ]
  },
  {
   "cell_type": "markdown",
   "metadata": {},
   "source": [
    "**Observation:**\n",
    "- The correlation coefficients between the each factor and TenYearCHD is very low"
   ]
  },
  {
   "cell_type": "markdown",
   "metadata": {},
   "source": [
    "### Exploring Dependency between the TenYearCHD and each Factor using Chi-Squared Test\n",
    "\n",
    "- Null Hypothesis:\n",
    "    - Variables been compared are indenpendent of one another (> 5%)\n",
    "- Alternative Hypotheses\n",
    "    - Variables been compared are not independent of one another. (<5%)"
   ]
  },
  {
   "cell_type": "code",
   "execution_count": 5,
   "metadata": {
    "colab": {
     "base_uri": "https://localhost:8080/"
    },
    "id": "IUswkIjDso4v",
    "outputId": "46a416ba-e1bc-4091-8ab5-e20e9b6a5ba3"
   },
   "outputs": [
    {
     "data": {
      "text/plain": [
       "((3656, 15), (3656,))"
      ]
     },
     "execution_count": 5,
     "metadata": {},
     "output_type": "execute_result"
    }
   ],
   "source": [
    "x = df.iloc[:, :15]\n",
    "y = df.iloc[:, -1]\n",
    "x.shape, y.shape"
   ]
  },
  {
   "cell_type": "code",
   "execution_count": 13,
   "metadata": {
    "colab": {
     "base_uri": "https://localhost:8080/",
     "height": 520
    },
    "id": "QPEsCPCVtHlq",
    "outputId": "1e73e9e7-7c7a-41fe-d54c-7b84a3fdce55"
   },
   "outputs": [
    {
     "data": {
      "text/html": [
       "<div>\n",
       "<style scoped>\n",
       "    .dataframe tbody tr th:only-of-type {\n",
       "        vertical-align: middle;\n",
       "    }\n",
       "\n",
       "    .dataframe tbody tr th {\n",
       "        vertical-align: top;\n",
       "    }\n",
       "\n",
       "    .dataframe thead th {\n",
       "        text-align: right;\n",
       "    }\n",
       "</style>\n",
       "<table border=\"1\" class=\"dataframe\">\n",
       "  <thead>\n",
       "    <tr style=\"text-align: right;\">\n",
       "      <th></th>\n",
       "      <th>chi_square</th>\n",
       "      <th>pvalues</th>\n",
       "    </tr>\n",
       "  </thead>\n",
       "  <tbody>\n",
       "    <tr>\n",
       "      <th>male</th>\n",
       "      <td>17.120430</td>\n",
       "      <td>3.508289e-05</td>\n",
       "    </tr>\n",
       "    <tr>\n",
       "      <th>age</th>\n",
       "      <td>295.507761</td>\n",
       "      <td>3.136918e-66</td>\n",
       "    </tr>\n",
       "    <tr>\n",
       "      <th>education</th>\n",
       "      <td>7.679797</td>\n",
       "      <td>5.584246e-03</td>\n",
       "    </tr>\n",
       "    <tr>\n",
       "      <th>currentSmoker</th>\n",
       "      <td>0.686913</td>\n",
       "      <td>4.072163e-01</td>\n",
       "    </tr>\n",
       "    <tr>\n",
       "      <th>cigsPerDay</th>\n",
       "      <td>156.567318</td>\n",
       "      <td>6.363520e-36</td>\n",
       "    </tr>\n",
       "    <tr>\n",
       "      <th>BPMeds</th>\n",
       "      <td>28.153003</td>\n",
       "      <td>1.120936e-07</td>\n",
       "    </tr>\n",
       "    <tr>\n",
       "      <th>prevalentStroke</th>\n",
       "      <td>8.497823</td>\n",
       "      <td>3.555717e-03</td>\n",
       "    </tr>\n",
       "    <tr>\n",
       "      <th>prevalentHyp</th>\n",
       "      <td>82.967184</td>\n",
       "      <td>8.342694e-20</td>\n",
       "    </tr>\n",
       "    <tr>\n",
       "      <th>diabetes</th>\n",
       "      <td>31.027987</td>\n",
       "      <td>2.543345e-08</td>\n",
       "    </tr>\n",
       "    <tr>\n",
       "      <th>totChol</th>\n",
       "      <td>249.153078</td>\n",
       "      <td>3.972625e-56</td>\n",
       "    </tr>\n",
       "    <tr>\n",
       "      <th>sysBP</th>\n",
       "      <td>669.506552</td>\n",
       "      <td>1.279133e-147</td>\n",
       "    </tr>\n",
       "    <tr>\n",
       "      <th>diaBP</th>\n",
       "      <td>142.878574</td>\n",
       "      <td>6.248564e-33</td>\n",
       "    </tr>\n",
       "    <tr>\n",
       "      <th>BMI</th>\n",
       "      <td>15.730717</td>\n",
       "      <td>7.302857e-05</td>\n",
       "    </tr>\n",
       "    <tr>\n",
       "      <th>heartRate</th>\n",
       "      <td>2.919062</td>\n",
       "      <td>8.753872e-02</td>\n",
       "    </tr>\n",
       "    <tr>\n",
       "      <th>glucose</th>\n",
       "      <td>379.583137</td>\n",
       "      <td>1.533624e-84</td>\n",
       "    </tr>\n",
       "  </tbody>\n",
       "</table>\n",
       "</div>"
      ],
      "text/plain": [
       "                 chi_square        pvalues\n",
       "male              17.120430   3.508289e-05\n",
       "age              295.507761   3.136918e-66\n",
       "education          7.679797   5.584246e-03\n",
       "currentSmoker      0.686913   4.072163e-01\n",
       "cigsPerDay       156.567318   6.363520e-36\n",
       "BPMeds            28.153003   1.120936e-07\n",
       "prevalentStroke    8.497823   3.555717e-03\n",
       "prevalentHyp      82.967184   8.342694e-20\n",
       "diabetes          31.027987   2.543345e-08\n",
       "totChol          249.153078   3.972625e-56\n",
       "sysBP            669.506552  1.279133e-147\n",
       "diaBP            142.878574   6.248564e-33\n",
       "BMI               15.730717   7.302857e-05\n",
       "heartRate          2.919062   8.753872e-02\n",
       "glucose          379.583137   1.533624e-84"
      ]
     },
     "execution_count": 13,
     "metadata": {},
     "output_type": "execute_result"
    }
   ],
   "source": [
    "#check for dependency\n",
    "chi_square, pvalues = chi2(x,y)\n",
    "\n",
    "dependence_df = pd.DataFrame([chi_square, pvalues], \n",
    "                             columns =  x.columns, \n",
    "                             index = [\"chi_square\", \"pvalues\"]).transpose()\n",
    "dependence_df"
   ]
  },
  {
   "cell_type": "markdown",
   "metadata": {},
   "source": [
    "### Feature Selection using Chi-Squared Test\n",
    "- Factors with p_values less than 5% indicate that there is some dependency on the outcome variable TenYearCHD. As a result, tell us something about the outcome. \n"
   ]
  },
  {
   "cell_type": "code",
   "execution_count": 20,
   "metadata": {
    "colab": {
     "base_uri": "https://localhost:8080/"
    },
    "id": "ov3byEirs9LO",
    "outputId": "faf4c7ab-b77b-4394-f042-f0076b3471d0"
   },
   "outputs": [
    {
     "name": "stdout",
     "output_type": "stream",
     "text": [
      "Percentage Accuracy\t13.471502590673579\n"
     ]
    }
   ],
   "source": [
    "x_var = [dependence_df.index[i] for i in range(len(dependence_df)) if dependence_df[\"pvalues\"][i] < 0.05]\n",
    "new_x = df[x_var]\n",
    "\n",
    "#scale values of x to be between 0 and 1\n",
    "scaler = MinMaxScaler()\n",
    "df_x = scaler.fit_transform(new_x)\n",
    "\n",
    "#train_test_split\n",
    "x_train, x_test, y_train, y_test = tts(df_x, y, test_size=0.3, random_state=42)\n",
    "\n",
    "#predict TenYearCHD using LogisticRegression\n",
    "model_ = LogisticRegression().fit(x_train, y_train)\n",
    "y_hat = model_.predict(x_test)\n",
    "\n",
    "#check accuracy using \n",
    "print(\"Percentage Accuracy\\t\" + str(f1_score(y_test, y_hat)*100))"
   ]
  },
  {
   "cell_type": "markdown",
   "metadata": {
    "id": "PFtOcjpjEUH7"
   },
   "source": [
    "According to Framingham Risk Score Study, Probability values for risk of TenYearCHD greater than or equal to 20% indicate high risk of TenYearCHD\n",
    "\n",
    "Reference: https://en.wikipedia.org/wiki/Framingham_Risk_Score"
   ]
  },
  {
   "cell_type": "markdown",
   "metadata": {},
   "source": [
    "**Observation:**\n",
    "\n",
    "- Prediction Accuracy is Low according f1_score"
   ]
  },
  {
   "cell_type": "markdown",
   "metadata": {},
   "source": [
    "### Exploring the manually written Logistic Regression Algorithm\n",
    "\n",
    "- Aim:\n",
    "    - Prioritize optimizing logistic regression equation estimates over latency."
   ]
  },
  {
   "cell_type": "code",
   "execution_count": 61,
   "metadata": {},
   "outputs": [
    {
     "name": "stdout",
     "output_type": "stream",
     "text": [
      "Percentage Accuracy\t15.075376884422113\n"
     ]
    }
   ],
   "source": [
    "def data_transform(x):\n",
    "    model_x = np.c_[np.ones(shape=(x.shape[0],1)),x]\n",
    "    return model_x\n",
    "\n",
    "def beta_initialize(x):\n",
    "    beta = np.zeros(shape=(data_transform(x).shape[1],1))\n",
    "    return beta\n",
    "\n",
    "beta, Xtrain, Xtest = beta_initialize(new_x), data_transform(x_train), data_transform(x_test)\n",
    "\n",
    "# fit data\n",
    "beta, loss = logFit(Xtrain, y_train.values.reshape(-1,1), beta)\n",
    "\n",
    "# predicting output variable (TenYearCHD)\n",
    "y_hat_logit = logPredict(Xtest, beta, 0.5)\n",
    "\n",
    "#check accuracy using \n",
    "print(\"Percentage Accuracy\\t\" + str(f1_score(y_test, y_hat_logit)*100))"
   ]
  },
  {
   "cell_type": "code",
   "execution_count": 62,
   "metadata": {
    "tags": []
   },
   "outputs": [
    {
     "data": {
      "image/png": "[encoded data removed]",
      "text/plain": [
       "<Figure size 640x480 with 1 Axes>"
      ]
     },
     "metadata": {},
     "output_type": "display_data"
    }
   ],
   "source": [
    "# plotting loss function\n",
    "plt.plot(loss)\n",
    "plt.title('Loss Function Per Iteration')\n",
    "plt.xlabel('Number of Iterations')\n",
    "plt.ylabel('Loss Function')\n",
    "plt.show()"
   ]
  },
  {
   "cell_type": "markdown",
   "metadata": {},
   "source": [
    "**Observation**\n",
    "- Result from manually built logit model performs slightly better than LogisticRegression algorithm from sklearn.\n",
    "- According to the loss function graph, global minimum was obtained between 0 and 50,000 iterations, therefore informing our hyperparameter tuning strategy"
   ]
  },
  {
   "cell_type": "markdown",
   "metadata": {},
   "source": [
    "### Approximation Threshold Adjustment\n",
    "- From research, the Famingham Risk Score states that individuals with probability estimation greater than 20% have a high risk of Coronary Heart Disease Adjust Approximation Threshold to 20%\n",
    "\n",
    "    - Reference: https://en.wikipedia.org/wiki/Framingham_Risk_Score"
   ]
  },
  {
   "cell_type": "code",
   "execution_count": 107,
   "metadata": {
    "colab": {
     "base_uri": "https://localhost:8080/"
    },
    "id": "y4wSpiCJEUys",
    "outputId": "5dfe0bce-7c20-48ef-e7cb-8179887d8777"
   },
   "outputs": [
    {
     "name": "stdout",
     "output_type": "stream",
     "text": [
      "Percentage Accuracy\t38.443935926773456\n"
     ]
    }
   ],
   "source": [
    "#change classification threshold to 0.2\n",
    "model_ = LogisticRegression(max_iter = 50000).fit(x_train, y_train)\n",
    "prob = model_.predict_proba(x_test)[:, 1]\n",
    "Y_hat = [1 if prob[i] >= 0.2 else 0 for i in range(len(prob))]\n",
    "print(\"Percentage Accuracy\\t\"+ str(f1_score(y_test, Y_hat)*100))"
   ]
  },
  {
   "cell_type": "markdown",
   "metadata": {},
   "source": [
    "### Performance Evaluation"
   ]
  },
  {
   "cell_type": "code",
   "execution_count": 69,
   "metadata": {},
   "outputs": [
    {
     "name": "stdout",
     "output_type": "stream",
     "text": [
      "Initial Model (Sklearn) = \n",
      "[[917   6]\n",
      " [161  13]]\n",
      "\n",
      "Initial Model (Logit) = \n",
      "[[913  10]\n",
      " [159  15]]\n",
      "\n",
      "f1_score at threshold = 0.2: \n",
      "[[744 179]\n",
      " [ 90  84]]\n"
     ]
    }
   ],
   "source": [
    "confusion_matrix_sklearn = confusion_matrix(y_test, y_hat)\n",
    "print(f'Initial Model (Sklearn) = \\n{confusion_matrix_sklearn}\\n')\n",
    "\n",
    "confusion_matrix_logit = confusion_matrix(y_test, y_hat_logit)\n",
    "print(f'Initial Model (Logit) = \\n{confusion_matrix_logit}\\n')\n",
    "\n",
    "confusion_matrix_tuned = confusion_matrix(y_test, Y_hat)\n",
    "print(f'f1_score at threshold = 0.2: \\n{confusion_matrix_tuned}')"
   ]
  },
  {
   "cell_type": "markdown",
   "metadata": {},
   "source": [
    "### Examining Bias in the Dataset\n",
    "\n",
    "Considerations:\n",
    "- Primary factor = Smoking\n",
    "- Counfounding variables = age, gender"
   ]
  },
  {
   "cell_type": "code",
   "execution_count": 71,
   "metadata": {},
   "outputs": [
    {
     "data": {
      "text/html": [
       "<div>\n",
       "<style scoped>\n",
       "    .dataframe tbody tr th:only-of-type {\n",
       "        vertical-align: middle;\n",
       "    }\n",
       "\n",
       "    .dataframe tbody tr th {\n",
       "        vertical-align: top;\n",
       "    }\n",
       "\n",
       "    .dataframe thead th {\n",
       "        text-align: right;\n",
       "    }\n",
       "</style>\n",
       "<table border=\"1\" class=\"dataframe\">\n",
       "  <thead>\n",
       "    <tr style=\"text-align: right;\">\n",
       "      <th>currentSmoker</th>\n",
       "      <th>0</th>\n",
       "      <th>1</th>\n",
       "    </tr>\n",
       "  </thead>\n",
       "  <tbody>\n",
       "    <tr>\n",
       "      <th>male</th>\n",
       "      <td>1868.000000</td>\n",
       "      <td>1788.000000</td>\n",
       "    </tr>\n",
       "    <tr>\n",
       "      <th>age</th>\n",
       "      <td>51.323340</td>\n",
       "      <td>47.712528</td>\n",
       "    </tr>\n",
       "    <tr>\n",
       "      <th>cigsPerDay</th>\n",
       "      <td>0.000000</td>\n",
       "      <td>18.447987</td>\n",
       "    </tr>\n",
       "    <tr>\n",
       "      <th>BPMeds</th>\n",
       "      <td>73.000000</td>\n",
       "      <td>38.000000</td>\n",
       "    </tr>\n",
       "    <tr>\n",
       "      <th>prevalentStroke</th>\n",
       "      <td>16.000000</td>\n",
       "      <td>5.000000</td>\n",
       "    </tr>\n",
       "    <tr>\n",
       "      <th>prevalentHyp</th>\n",
       "      <td>673.000000</td>\n",
       "      <td>466.000000</td>\n",
       "    </tr>\n",
       "    <tr>\n",
       "      <th>diabetes</th>\n",
       "      <td>63.000000</td>\n",
       "      <td>36.000000</td>\n",
       "    </tr>\n",
       "    <tr>\n",
       "      <th>totChol</th>\n",
       "      <td>239.078158</td>\n",
       "      <td>234.569351</td>\n",
       "    </tr>\n",
       "    <tr>\n",
       "      <th>BMI</th>\n",
       "      <td>26.418865</td>\n",
       "      <td>25.121107</td>\n",
       "    </tr>\n",
       "    <tr>\n",
       "      <th>heartRate</th>\n",
       "      <td>75.139186</td>\n",
       "      <td>76.348434</td>\n",
       "    </tr>\n",
       "    <tr>\n",
       "      <th>glucose</th>\n",
       "      <td>83.103854</td>\n",
       "      <td>80.552573</td>\n",
       "    </tr>\n",
       "    <tr>\n",
       "      <th>TenYearCHD</th>\n",
       "      <td>272.000000</td>\n",
       "      <td>285.000000</td>\n",
       "    </tr>\n",
       "  </tbody>\n",
       "</table>\n",
       "</div>"
      ],
      "text/plain": [
       "currentSmoker              0            1\n",
       "male             1868.000000  1788.000000\n",
       "age                51.323340    47.712528\n",
       "cigsPerDay          0.000000    18.447987\n",
       "BPMeds             73.000000    38.000000\n",
       "prevalentStroke    16.000000     5.000000\n",
       "prevalentHyp      673.000000   466.000000\n",
       "diabetes           63.000000    36.000000\n",
       "totChol           239.078158   234.569351\n",
       "BMI                26.418865    25.121107\n",
       "heartRate          75.139186    76.348434\n",
       "glucose            83.103854    80.552573\n",
       "TenYearCHD        272.000000   285.000000"
      ]
     },
     "execution_count": 71,
     "metadata": {},
     "output_type": "execute_result"
    }
   ],
   "source": [
    "group_by_currentSmoker = df.groupby(\"currentSmoker\").agg({\"male\":\"count\",\"age\":\"mean\", \"cigsPerDay\":\"mean\", \"BPMeds\": \"sum\",\n",
    "                                                              \"prevalentStroke\":\"sum\", \"prevalentHyp\":\"sum\", \"diabetes\":\"sum\",\n",
    "                                                              \"totChol\":\"mean\", \"BMI\":\"mean\", \"heartRate\":\"mean\", \"glucose\":\"mean\",\n",
    "                                                              \"TenYearCHD\":\"sum\"})\n",
    "group_by_currentSmoker.transpose()"
   ]
  },
  {
   "cell_type": "code",
   "execution_count": 72,
   "metadata": {},
   "outputs": [
    {
     "data": {
      "text/html": [
       "<div>\n",
       "<style scoped>\n",
       "    .dataframe tbody tr th:only-of-type {\n",
       "        vertical-align: middle;\n",
       "    }\n",
       "\n",
       "    .dataframe tbody tr th {\n",
       "        vertical-align: top;\n",
       "    }\n",
       "\n",
       "    .dataframe thead tr th {\n",
       "        text-align: left;\n",
       "    }\n",
       "</style>\n",
       "<table border=\"1\" class=\"dataframe\">\n",
       "  <thead>\n",
       "    <tr>\n",
       "      <th>currentSmoker</th>\n",
       "      <th colspan=\"2\" halign=\"left\">0</th>\n",
       "      <th colspan=\"2\" halign=\"left\">1</th>\n",
       "    </tr>\n",
       "    <tr>\n",
       "      <th>male</th>\n",
       "      <th>0</th>\n",
       "      <th>1</th>\n",
       "      <th>0</th>\n",
       "      <th>1</th>\n",
       "    </tr>\n",
       "  </thead>\n",
       "  <tbody>\n",
       "    <tr>\n",
       "      <th>age</th>\n",
       "      <td>51.594947</td>\n",
       "      <td>50.803432</td>\n",
       "      <td>46.929368</td>\n",
       "      <td>48.356779</td>\n",
       "    </tr>\n",
       "    <tr>\n",
       "      <th>cigsPerDay</th>\n",
       "      <td>0.000000</td>\n",
       "      <td>0.000000</td>\n",
       "      <td>13.855019</td>\n",
       "      <td>22.226300</td>\n",
       "    </tr>\n",
       "    <tr>\n",
       "      <th>BPMeds</th>\n",
       "      <td>54.000000</td>\n",
       "      <td>19.000000</td>\n",
       "      <td>24.000000</td>\n",
       "      <td>14.000000</td>\n",
       "    </tr>\n",
       "    <tr>\n",
       "      <th>prevalentStroke</th>\n",
       "      <td>10.000000</td>\n",
       "      <td>6.000000</td>\n",
       "      <td>2.000000</td>\n",
       "      <td>3.000000</td>\n",
       "    </tr>\n",
       "    <tr>\n",
       "      <th>prevalentHyp</th>\n",
       "      <td>457.000000</td>\n",
       "      <td>216.000000</td>\n",
       "      <td>176.000000</td>\n",
       "      <td>290.000000</td>\n",
       "    </tr>\n",
       "    <tr>\n",
       "      <th>diabetes</th>\n",
       "      <td>34.000000</td>\n",
       "      <td>29.000000</td>\n",
       "      <td>17.000000</td>\n",
       "      <td>19.000000</td>\n",
       "    </tr>\n",
       "    <tr>\n",
       "      <th>totChol</th>\n",
       "      <td>243.171964</td>\n",
       "      <td>231.241810</td>\n",
       "      <td>234.265180</td>\n",
       "      <td>234.819572</td>\n",
       "    </tr>\n",
       "    <tr>\n",
       "      <th>BMI</th>\n",
       "      <td>26.213456</td>\n",
       "      <td>26.812059</td>\n",
       "      <td>24.464758</td>\n",
       "      <td>25.661040</td>\n",
       "    </tr>\n",
       "    <tr>\n",
       "      <th>heartRate</th>\n",
       "      <td>76.665852</td>\n",
       "      <td>72.216849</td>\n",
       "      <td>77.407683</td>\n",
       "      <td>75.477064</td>\n",
       "    </tr>\n",
       "    <tr>\n",
       "      <th>glucose</th>\n",
       "      <td>82.647107</td>\n",
       "      <td>83.978159</td>\n",
       "      <td>80.489467</td>\n",
       "      <td>80.604485</td>\n",
       "    </tr>\n",
       "    <tr>\n",
       "      <th>TenYearCHD</th>\n",
       "      <td>162.000000</td>\n",
       "      <td>110.000000</td>\n",
       "      <td>88.000000</td>\n",
       "      <td>197.000000</td>\n",
       "    </tr>\n",
       "  </tbody>\n",
       "</table>\n",
       "</div>"
      ],
      "text/plain": [
       "currentSmoker             0                       1            \n",
       "male                      0           1           0           1\n",
       "age               51.594947   50.803432   46.929368   48.356779\n",
       "cigsPerDay         0.000000    0.000000   13.855019   22.226300\n",
       "BPMeds            54.000000   19.000000   24.000000   14.000000\n",
       "prevalentStroke   10.000000    6.000000    2.000000    3.000000\n",
       "prevalentHyp     457.000000  216.000000  176.000000  290.000000\n",
       "diabetes          34.000000   29.000000   17.000000   19.000000\n",
       "totChol          243.171964  231.241810  234.265180  234.819572\n",
       "BMI               26.213456   26.812059   24.464758   25.661040\n",
       "heartRate         76.665852   72.216849   77.407683   75.477064\n",
       "glucose           82.647107   83.978159   80.489467   80.604485\n",
       "TenYearCHD       162.000000  110.000000   88.000000  197.000000"
      ]
     },
     "execution_count": 72,
     "metadata": {},
     "output_type": "execute_result"
    }
   ],
   "source": [
    "#group by gender\n",
    "group_by_gender = df.groupby([\"currentSmoker\", \"male\"]).agg({\"age\":\"mean\", \"cigsPerDay\":\"mean\", \"BPMeds\": \"sum\",\n",
    "                                                              \"prevalentStroke\":\"sum\", \"prevalentHyp\":\"sum\", \"diabetes\":\"sum\",\n",
    "                                                              \"totChol\":\"mean\", \"BMI\":\"mean\", \"heartRate\":\"mean\", \"glucose\":\"mean\",\n",
    "                                                              \"TenYearCHD\":\"sum\"})\n",
    "group_by_gender.transpose()"
   ]
  },
  {
   "cell_type": "markdown",
   "metadata": {
    "id": "WxKTOmnu-Brc"
   },
   "source": [
    "Age Distribution"
   ]
  },
  {
   "cell_type": "code",
   "execution_count": 73,
   "metadata": {
    "colab": {
     "base_uri": "https://localhost:8080/",
     "height": 265
    },
    "id": "kqee1Gxy-Nig",
    "outputId": "29abd248-ac9c-43fd-9f37-c8e976feb8fc"
   },
   "outputs": [
    {
     "data": {
      "image/png": "[encoded data removed]",
      "text/plain": [
       "<Figure size 640x480 with 1 Axes>"
      ]
     },
     "metadata": {},
     "output_type": "display_data"
    }
   ],
   "source": [
    "df[\"age\"].hist(bins=50)\n",
    "plt.show()"
   ]
  },
  {
   "cell_type": "code",
   "execution_count": 74,
   "metadata": {
    "colab": {
     "base_uri": "https://localhost:8080/",
     "height": 145
    },
    "id": "q_YVAG47-rMA",
    "outputId": "2d7534cf-e9b2-442b-df5d-8be4abc554a7"
   },
   "outputs": [
    {
     "data": {
      "text/html": [
       "<div>\n",
       "<style scoped>\n",
       "    .dataframe tbody tr th:only-of-type {\n",
       "        vertical-align: middle;\n",
       "    }\n",
       "\n",
       "    .dataframe tbody tr th {\n",
       "        vertical-align: top;\n",
       "    }\n",
       "\n",
       "    .dataframe thead th {\n",
       "        text-align: right;\n",
       "    }\n",
       "</style>\n",
       "<table border=\"1\" class=\"dataframe\">\n",
       "  <thead>\n",
       "    <tr style=\"text-align: right;\">\n",
       "      <th></th>\n",
       "      <th>age_grp</th>\n",
       "      <th>male</th>\n",
       "      <th>age</th>\n",
       "      <th>education</th>\n",
       "      <th>currentSmoker</th>\n",
       "      <th>cigsPerDay</th>\n",
       "      <th>BPMeds</th>\n",
       "      <th>prevalentStroke</th>\n",
       "      <th>prevalentHyp</th>\n",
       "      <th>diabetes</th>\n",
       "      <th>totChol</th>\n",
       "      <th>sysBP</th>\n",
       "      <th>diaBP</th>\n",
       "      <th>BMI</th>\n",
       "      <th>heartRate</th>\n",
       "      <th>glucose</th>\n",
       "      <th>TenYearCHD</th>\n",
       "    </tr>\n",
       "  </thead>\n",
       "  <tbody>\n",
       "    <tr>\n",
       "      <th>895</th>\n",
       "      <td>40-49</td>\n",
       "      <td>1</td>\n",
       "      <td>45</td>\n",
       "      <td>1.0</td>\n",
       "      <td>1</td>\n",
       "      <td>20.0</td>\n",
       "      <td>0.0</td>\n",
       "      <td>0</td>\n",
       "      <td>0</td>\n",
       "      <td>0</td>\n",
       "      <td>255.0</td>\n",
       "      <td>130.0</td>\n",
       "      <td>82.5</td>\n",
       "      <td>28.56</td>\n",
       "      <td>82.0</td>\n",
       "      <td>94.0</td>\n",
       "      <td>0</td>\n",
       "    </tr>\n",
       "  </tbody>\n",
       "</table>\n",
       "</div>"
      ],
      "text/plain": [
       "    age_grp  male  age  education  currentSmoker  cigsPerDay  BPMeds  \\\n",
       "895   40-49     1   45        1.0              1        20.0     0.0   \n",
       "\n",
       "     prevalentStroke  prevalentHyp  diabetes  totChol  sysBP  diaBP    BMI  \\\n",
       "895                0             0         0    255.0  130.0   82.5  28.56   \n",
       "\n",
       "     heartRate  glucose  TenYearCHD  \n",
       "895       82.0     94.0           0  "
      ]
     },
     "execution_count": 74,
     "metadata": {},
     "output_type": "execute_result"
    }
   ],
   "source": [
    "age_bins = [30, 39, 49, 59, 69, 79]\n",
    "age_labels = [\"30-39\", \"40-49\", \"50-59\", \"60-69\", \"70-79\"]\n",
    "df[\"age_grp\"] = pd.cut(df[\"age\"], bins=age_bins, labels=age_labels)\n",
    "cols = [df.columns[-1]]\n",
    "for i in range(len(df.columns[:16])):\n",
    "  cols.append(df.columns[i])\n",
    "\n",
    "df = df[cols]\n",
    "df.sample(1)"
   ]
  },
  {
   "cell_type": "code",
   "execution_count": 75,
   "metadata": {},
   "outputs": [
    {
     "data": {
      "text/html": [
       "<div>\n",
       "<style scoped>\n",
       "    .dataframe tbody tr th:only-of-type {\n",
       "        vertical-align: middle;\n",
       "    }\n",
       "\n",
       "    .dataframe tbody tr th {\n",
       "        vertical-align: top;\n",
       "    }\n",
       "\n",
       "    .dataframe thead th {\n",
       "        text-align: right;\n",
       "    }\n",
       "</style>\n",
       "<table border=\"1\" class=\"dataframe\">\n",
       "  <thead>\n",
       "    <tr style=\"text-align: right;\">\n",
       "      <th></th>\n",
       "      <th>TenYearCHD</th>\n",
       "    </tr>\n",
       "    <tr>\n",
       "      <th>age_grp</th>\n",
       "      <th></th>\n",
       "    </tr>\n",
       "  </thead>\n",
       "  <tbody>\n",
       "    <tr>\n",
       "      <th>30-39</th>\n",
       "      <td>21</td>\n",
       "    </tr>\n",
       "    <tr>\n",
       "      <th>40-49</th>\n",
       "      <td>138</td>\n",
       "    </tr>\n",
       "    <tr>\n",
       "      <th>50-59</th>\n",
       "      <td>230</td>\n",
       "    </tr>\n",
       "    <tr>\n",
       "      <th>60-69</th>\n",
       "      <td>168</td>\n",
       "    </tr>\n",
       "    <tr>\n",
       "      <th>70-79</th>\n",
       "      <td>0</td>\n",
       "    </tr>\n",
       "  </tbody>\n",
       "</table>\n",
       "</div>"
      ],
      "text/plain": [
       "         TenYearCHD\n",
       "age_grp            \n",
       "30-39            21\n",
       "40-49           138\n",
       "50-59           230\n",
       "60-69           168\n",
       "70-79             0"
      ]
     },
     "execution_count": 75,
     "metadata": {},
     "output_type": "execute_result"
    }
   ],
   "source": [
    "group_by_ageClass = df.groupby(\"age_grp\").agg({\"TenYearCHD\": \"sum\"})\n",
    "group_by_ageClass"
   ]
  },
  {
   "cell_type": "code",
   "execution_count": 76,
   "metadata": {},
   "outputs": [
    {
     "data": {
      "text/html": [
       "<div>\n",
       "<style scoped>\n",
       "    .dataframe tbody tr th:only-of-type {\n",
       "        vertical-align: middle;\n",
       "    }\n",
       "\n",
       "    .dataframe tbody tr th {\n",
       "        vertical-align: top;\n",
       "    }\n",
       "\n",
       "    .dataframe thead th {\n",
       "        text-align: right;\n",
       "    }\n",
       "</style>\n",
       "<table border=\"1\" class=\"dataframe\">\n",
       "  <thead>\n",
       "    <tr style=\"text-align: right;\">\n",
       "      <th></th>\n",
       "      <th>currentSmoker</th>\n",
       "    </tr>\n",
       "    <tr>\n",
       "      <th>age_grp</th>\n",
       "      <th></th>\n",
       "    </tr>\n",
       "  </thead>\n",
       "  <tbody>\n",
       "    <tr>\n",
       "      <th>30-39</th>\n",
       "      <td>278</td>\n",
       "    </tr>\n",
       "    <tr>\n",
       "      <th>40-49</th>\n",
       "      <td>841</td>\n",
       "    </tr>\n",
       "    <tr>\n",
       "      <th>50-59</th>\n",
       "      <td>484</td>\n",
       "    </tr>\n",
       "    <tr>\n",
       "      <th>60-69</th>\n",
       "      <td>185</td>\n",
       "    </tr>\n",
       "    <tr>\n",
       "      <th>70-79</th>\n",
       "      <td>0</td>\n",
       "    </tr>\n",
       "  </tbody>\n",
       "</table>\n",
       "</div>"
      ],
      "text/plain": [
       "         currentSmoker\n",
       "age_grp               \n",
       "30-39              278\n",
       "40-49              841\n",
       "50-59              484\n",
       "60-69              185\n",
       "70-79                0"
      ]
     },
     "execution_count": 76,
     "metadata": {},
     "output_type": "execute_result"
    }
   ],
   "source": [
    "group_by_ageSmoker = df.groupby(\"age_grp\").agg({\"currentSmoker\": \"sum\"})\n",
    "group_by_ageSmoker"
   ]
  },
  {
   "cell_type": "code",
   "execution_count": 77,
   "metadata": {},
   "outputs": [
    {
     "data": {
      "text/html": [
       "<div>\n",
       "<style scoped>\n",
       "    .dataframe tbody tr th:only-of-type {\n",
       "        vertical-align: middle;\n",
       "    }\n",
       "\n",
       "    .dataframe tbody tr th {\n",
       "        vertical-align: top;\n",
       "    }\n",
       "\n",
       "    .dataframe thead th {\n",
       "        text-align: right;\n",
       "    }\n",
       "</style>\n",
       "<table border=\"1\" class=\"dataframe\">\n",
       "  <thead>\n",
       "    <tr style=\"text-align: right;\">\n",
       "      <th></th>\n",
       "      <th>TenYearCHD</th>\n",
       "      <th>NoTenYearCHD</th>\n",
       "      <th>total</th>\n",
       "    </tr>\n",
       "  </thead>\n",
       "  <tbody>\n",
       "    <tr>\n",
       "      <th>Smoker</th>\n",
       "      <td>285</td>\n",
       "      <td>1503</td>\n",
       "      <td>1788</td>\n",
       "    </tr>\n",
       "    <tr>\n",
       "      <th>NonSmoker</th>\n",
       "      <td>272</td>\n",
       "      <td>1596</td>\n",
       "      <td>1868</td>\n",
       "    </tr>\n",
       "    <tr>\n",
       "      <th>Total</th>\n",
       "      <td>557</td>\n",
       "      <td>3099</td>\n",
       "      <td>3656</td>\n",
       "    </tr>\n",
       "  </tbody>\n",
       "</table>\n",
       "</div>"
      ],
      "text/plain": [
       "           TenYearCHD  NoTenYearCHD  total\n",
       "Smoker            285          1503   1788\n",
       "NonSmoker         272          1596   1868\n",
       "Total             557          3099   3656"
      ]
     },
     "execution_count": 77,
     "metadata": {},
     "output_type": "execute_result"
    }
   ],
   "source": [
    "#Grouping the Data\n",
    "a = len(df[(df[\"currentSmoker\"]==1)&(df[\"TenYearCHD\"]==1)])\n",
    "b = len(df[(df[\"currentSmoker\"]==1) & (df[\"TenYearCHD\"]==0)])\n",
    "c = len(df[(df[\"currentSmoker\"]==0) & (df[\"TenYearCHD\"] == 1)])\n",
    "d = len(df[(df[\"currentSmoker\"]==0) & (df[\"TenYearCHD\"] == 0)])\n",
    "\n",
    "tot_r1 = a+b\n",
    "tot_r2 = c+d\n",
    "tot_c1 = a+c\n",
    "tot_c2 = b+d\n",
    "tot_c3 = tot_r1 + tot_r2\n",
    "\n",
    "unadjusted_analysis = pd.DataFrame([[a, b, tot_r1], [c, d, tot_r2], [tot_c1, tot_c2, tot_c3]], \n",
    "                              columns = [\"TenYearCHD\", \"NoTenYearCHD\", \"total\"], \n",
    "                              index = [\"Smoker\", \"NonSmoker\", \"Total\"])\n",
    "unadjusted_analysis "
   ]
  },
  {
   "cell_type": "code",
   "execution_count": 78,
   "metadata": {},
   "outputs": [
    {
     "data": {
      "text/plain": [
       "1.0946752862218714"
      ]
     },
     "execution_count": 78,
     "metadata": {},
     "output_type": "execute_result"
    }
   ],
   "source": [
    "crude_RiskRatio = (unadjusted_analysis[\"TenYearCHD\"][\"Smoker\"]/ unadjusted_analysis[\"total\"][\"Smoker\"]) / (unadjusted_analysis[\"TenYearCHD\"][\"NonSmoker\"]/ unadjusted_analysis[\"total\"][\"NonSmoker\"])\n",
    "crude_RiskRatio"
   ]
  },
  {
   "cell_type": "markdown",
   "metadata": {},
   "source": [
    "* Stratifying the data by age"
   ]
  },
  {
   "cell_type": "code",
   "execution_count": 80,
   "metadata": {},
   "outputs": [
    {
     "data": {
      "text/html": [
       "<div>\n",
       "<style scoped>\n",
       "    .dataframe tbody tr th:only-of-type {\n",
       "        vertical-align: middle;\n",
       "    }\n",
       "\n",
       "    .dataframe tbody tr th {\n",
       "        vertical-align: top;\n",
       "    }\n",
       "\n",
       "    .dataframe thead th {\n",
       "        text-align: right;\n",
       "    }\n",
       "</style>\n",
       "<table border=\"1\" class=\"dataframe\">\n",
       "  <thead>\n",
       "    <tr style=\"text-align: right;\">\n",
       "      <th></th>\n",
       "      <th>TenYearCHD_Young</th>\n",
       "      <th>NoTenYearCHD_Young</th>\n",
       "      <th>total_Young</th>\n",
       "    </tr>\n",
       "  </thead>\n",
       "  <tbody>\n",
       "    <tr>\n",
       "      <th>Smoker</th>\n",
       "      <td>113</td>\n",
       "      <td>1006</td>\n",
       "      <td>1119</td>\n",
       "    </tr>\n",
       "    <tr>\n",
       "      <th>NonSmoker</th>\n",
       "      <td>46</td>\n",
       "      <td>752</td>\n",
       "      <td>798</td>\n",
       "    </tr>\n",
       "    <tr>\n",
       "      <th>Total</th>\n",
       "      <td>159</td>\n",
       "      <td>1758</td>\n",
       "      <td>1917</td>\n",
       "    </tr>\n",
       "  </tbody>\n",
       "</table>\n",
       "</div>"
      ],
      "text/plain": [
       "           TenYearCHD_Young  NoTenYearCHD_Young  total_Young\n",
       "Smoker                  113                1006         1119\n",
       "NonSmoker                46                 752          798\n",
       "Total                   159                1758         1917"
      ]
     },
     "execution_count": 80,
     "metadata": {},
     "output_type": "execute_result"
    }
   ],
   "source": [
    "heart_young = df[df[\"age\"] < 50]\n",
    "heart_old = df[df[\"age\"] >= 50]\n",
    "\n",
    "a_y = len(heart_young[(heart_young[\"currentSmoker\"]==1)&(heart_young[\"TenYearCHD\"]==1)])\n",
    "b_y = len(heart_young[(heart_young[\"currentSmoker\"]==1) & (heart_young[\"TenYearCHD\"]==0)])\n",
    "c_y = len(heart_young[(heart_young[\"currentSmoker\"]==0) & (heart_young[\"TenYearCHD\"] == 1)])\n",
    "d_y = len(heart_young[(heart_young[\"currentSmoker\"]==0) & (heart_young[\"TenYearCHD\"] == 0)])\n",
    "\n",
    "tot_r1_y = a_y + b_y\n",
    "tot_r2_y = c_y + d_y\n",
    "tot_c1_y = a_y + c_y\n",
    "tot_c2_y = b_y + d_y\n",
    "tot_c3_y = tot_r1_y + tot_r2_y\n",
    "\n",
    "strat_young = pd.DataFrame([[a_y, b_y, tot_r1_y], [c_y, d_y, tot_r2_y], [tot_c1_y, tot_c2_y, tot_c3_y]], \n",
    "                              columns = [\"TenYearCHD_Young\", \"NoTenYearCHD_Young\", \"total_Young\"], \n",
    "                              index = [\"Smoker\", \"NonSmoker\", \"Total\"])\n",
    "strat_young"
   ]
  },
  {
   "cell_type": "code",
   "execution_count": 81,
   "metadata": {},
   "outputs": [
    {
     "data": {
      "text/plain": [
       "1.7518358783074952"
      ]
     },
     "execution_count": 81,
     "metadata": {},
     "output_type": "execute_result"
    }
   ],
   "source": [
    "RiskRatio_young = (strat_young[\"TenYearCHD_Young\"][\"Smoker\"]/ strat_young[\"total_Young\"][\"Smoker\"]) / (strat_young[\"TenYearCHD_Young\"][\"NonSmoker\"]/ strat_young[\"total_Young\"][\"NonSmoker\"])\n",
    "RiskRatio_young"
   ]
  },
  {
   "cell_type": "code",
   "execution_count": 83,
   "metadata": {},
   "outputs": [
    {
     "data": {
      "text/html": [
       "<div>\n",
       "<style scoped>\n",
       "    .dataframe tbody tr th:only-of-type {\n",
       "        vertical-align: middle;\n",
       "    }\n",
       "\n",
       "    .dataframe tbody tr th {\n",
       "        vertical-align: top;\n",
       "    }\n",
       "\n",
       "    .dataframe thead th {\n",
       "        text-align: right;\n",
       "    }\n",
       "</style>\n",
       "<table border=\"1\" class=\"dataframe\">\n",
       "  <thead>\n",
       "    <tr style=\"text-align: right;\">\n",
       "      <th></th>\n",
       "      <th>TenYearCHD_Old</th>\n",
       "      <th>NoTenYearCHD_Old</th>\n",
       "      <th>total_Old</th>\n",
       "    </tr>\n",
       "  </thead>\n",
       "  <tbody>\n",
       "    <tr>\n",
       "      <th>Smoker</th>\n",
       "      <td>172</td>\n",
       "      <td>497</td>\n",
       "      <td>669</td>\n",
       "    </tr>\n",
       "    <tr>\n",
       "      <th>NonSmoker</th>\n",
       "      <td>226</td>\n",
       "      <td>844</td>\n",
       "      <td>1070</td>\n",
       "    </tr>\n",
       "    <tr>\n",
       "      <th>Total</th>\n",
       "      <td>398</td>\n",
       "      <td>1341</td>\n",
       "      <td>1739</td>\n",
       "    </tr>\n",
       "  </tbody>\n",
       "</table>\n",
       "</div>"
      ],
      "text/plain": [
       "           TenYearCHD_Old  NoTenYearCHD_Old  total_Old\n",
       "Smoker                172               497        669\n",
       "NonSmoker             226               844       1070\n",
       "Total                 398              1341       1739"
      ]
     },
     "execution_count": 83,
     "metadata": {},
     "output_type": "execute_result"
    }
   ],
   "source": [
    "a_o = len(heart_old[(heart_old[\"currentSmoker\"]==1)&(heart_old[\"TenYearCHD\"]==1)])\n",
    "b_o = len(heart_old[(heart_old[\"currentSmoker\"]==1) & (heart_old[\"TenYearCHD\"]==0)])\n",
    "c_o = len(heart_old[(heart_old[\"currentSmoker\"]==0) & (heart_old[\"TenYearCHD\"] == 1)])\n",
    "d_o = len(heart_old[(heart_old[\"currentSmoker\"]==0) & (heart_old[\"TenYearCHD\"] == 0)])\n",
    "\n",
    "tot_r1_o = a_o + b_o\n",
    "tot_r2_o = c_o + d_o\n",
    "tot_c1_o = a_o + c_o\n",
    "tot_c2_o = b_o + d_o\n",
    "tot_c3_o = tot_r1_o + tot_r2_o\n",
    "\n",
    "strat_old = pd.DataFrame([[a_o, b_o, tot_r1_o], [c_o, d_o, tot_r2_o], [tot_c1_o, tot_c2_o, tot_c3_o]], \n",
    "                              columns = [\"TenYearCHD_Old\", \"NoTenYearCHD_Old\", \"total_Old\"], \n",
    "                              index = [\"Smoker\", \"NonSmoker\", \"Total\"])\n",
    "strat_old"
   ]
  },
  {
   "cell_type": "code",
   "execution_count": 84,
   "metadata": {},
   "outputs": [
    {
     "data": {
      "text/plain": [
       "1.2172440705318992"
      ]
     },
     "execution_count": 84,
     "metadata": {},
     "output_type": "execute_result"
    }
   ],
   "source": [
    "RiskRatio_old = (strat_old[\"TenYearCHD_Old\"][\"Smoker\"]/ strat_old[\"total_Old\"][\"Smoker\"]) / (strat_old[\"TenYearCHD_Old\"][\"NonSmoker\"]/ strat_old[\"total_Old\"][\"NonSmoker\"])\n",
    "RiskRatio_old"
   ]
  },
  {
   "cell_type": "code",
   "execution_count": 87,
   "metadata": {},
   "outputs": [
    {
     "data": {
      "text/plain": [
       "1.3433882484251098"
      ]
     },
     "execution_count": 87,
     "metadata": {},
     "output_type": "execute_result"
    }
   ],
   "source": [
    "#Adjusted Risk Ratio\n",
    "RRnum1 = (strat_young[\"TenYearCHD_Young\"][\"Smoker\"] *\n",
    "          (strat_young[\"TenYearCHD_Young\"][\"NonSmoker\"]+ \n",
    "           strat_young[\"NoTenYearCHD_Young\"][\"NonSmoker\"]))/(strat_young[\"total_Young\"][\"Total\"])\n",
    "\n",
    "RRnum2 = (strat_old[\"TenYearCHD_Old\"][\"Smoker\"] *\n",
    "          (strat_old[\"TenYearCHD_Old\"][\"NonSmoker\"]+ \n",
    "           strat_old[\"NoTenYearCHD_Old\"][\"NonSmoker\"]))/(strat_old[\"total_Old\"][\"Total\"])\n",
    "\n",
    "RRdenom1 = (strat_young[\"TenYearCHD_Young\"][\"NonSmoker\"] *\n",
    "            (strat_young[\"TenYearCHD_Young\"][\"Smoker\"] + strat_young[\"NoTenYearCHD_Young\"][\"Smoker\"]))/(strat_young[\"total_Young\"][\"Total\"])\n",
    "\n",
    "RRdenom2 = (strat_old[\"TenYearCHD_Old\"][\"NonSmoker\"] *\n",
    "            (strat_old[\"TenYearCHD_Old\"][\"Smoker\"] + strat_old[\"NoTenYearCHD_Old\"][\"Smoker\"]))/(strat_old[\"total_Old\"][\"Total\"])\n",
    "\n",
    "RR_adjusted = (RRnum1+RRnum2)/(RRdenom1+RRdenom2)\n",
    "RR_adjusted"
   ]
  },
  {
   "cell_type": "code",
   "execution_count": 86,
   "metadata": {},
   "outputs": [
    {
     "data": {
      "text/plain": [
       "-18.513855729705195"
      ]
     },
     "execution_count": 86,
     "metadata": {},
     "output_type": "execute_result"
    }
   ],
   "source": [
    "mag_of_effect = ((crude_RiskRatio - RR_adjusted)/RR_adjusted)*100\n",
    "mag_of_effect"
   ]
  },
  {
   "cell_type": "markdown",
   "metadata": {
    "id": "x6J5wDRj_b-C"
   },
   "source": [
    "Causes of Cornary Heart Disease:\n",
    "1. Smoking and Secondhand Smoke Exposure\n",
    "2. High blood pressure\n",
    "3. High low-density lipoprotein (LDL) cholesterol \n",
    "4. Diabetes\n",
    "4. Obesity, unhealthy diet, and Physical inactivity\n",
    "\n",
    "reference: https://www.cdc.gov/chronicdisease/resources/publications/factsheets/heart-disease-stroke.htm"
   ]
  },
  {
   "cell_type": "markdown",
   "metadata": {
    "id": "vDOhRaAN_uP_"
   },
   "source": [
    "Table Visualization:\n",
    "\n",
    "Group exposures by confounder variables"
   ]
  },
  {
   "cell_type": "code",
   "execution_count": 88,
   "metadata": {
    "colab": {
     "base_uri": "https://localhost:8080/",
     "height": 143
    },
    "id": "hCPEN3czBJEC",
    "outputId": "507f2cc4-4fa2-4c83-8fba-293e5fbf3b1e"
   },
   "outputs": [
    {
     "data": {
      "text/html": [
       "<div>\n",
       "<style scoped>\n",
       "    .dataframe tbody tr th:only-of-type {\n",
       "        vertical-align: middle;\n",
       "    }\n",
       "\n",
       "    .dataframe tbody tr th {\n",
       "        vertical-align: top;\n",
       "    }\n",
       "\n",
       "    .dataframe thead tr th {\n",
       "        text-align: left;\n",
       "    }\n",
       "</style>\n",
       "<table border=\"1\" class=\"dataframe\">\n",
       "  <thead>\n",
       "    <tr>\n",
       "      <th>male</th>\n",
       "      <th colspan=\"10\" halign=\"left\">0</th>\n",
       "      <th colspan=\"10\" halign=\"left\">1</th>\n",
       "    </tr>\n",
       "    <tr>\n",
       "      <th>age_grp</th>\n",
       "      <th colspan=\"2\" halign=\"left\">30-39</th>\n",
       "      <th colspan=\"2\" halign=\"left\">40-49</th>\n",
       "      <th colspan=\"2\" halign=\"left\">50-59</th>\n",
       "      <th colspan=\"2\" halign=\"left\">60-69</th>\n",
       "      <th colspan=\"2\" halign=\"left\">70-79</th>\n",
       "      <th colspan=\"2\" halign=\"left\">30-39</th>\n",
       "      <th colspan=\"2\" halign=\"left\">40-49</th>\n",
       "      <th colspan=\"2\" halign=\"left\">50-59</th>\n",
       "      <th colspan=\"2\" halign=\"left\">60-69</th>\n",
       "      <th colspan=\"2\" halign=\"left\">70-79</th>\n",
       "    </tr>\n",
       "    <tr>\n",
       "      <th>currentSmoker</th>\n",
       "      <th>0</th>\n",
       "      <th>1</th>\n",
       "      <th>0</th>\n",
       "      <th>1</th>\n",
       "      <th>0</th>\n",
       "      <th>1</th>\n",
       "      <th>0</th>\n",
       "      <th>1</th>\n",
       "      <th>0</th>\n",
       "      <th>1</th>\n",
       "      <th>0</th>\n",
       "      <th>1</th>\n",
       "      <th>0</th>\n",
       "      <th>1</th>\n",
       "      <th>0</th>\n",
       "      <th>1</th>\n",
       "      <th>0</th>\n",
       "      <th>1</th>\n",
       "      <th>0</th>\n",
       "      <th>1</th>\n",
       "    </tr>\n",
       "  </thead>\n",
       "  <tbody>\n",
       "    <tr>\n",
       "      <th>TenYearCHD</th>\n",
       "      <td>0</td>\n",
       "      <td>7</td>\n",
       "      <td>23</td>\n",
       "      <td>34</td>\n",
       "      <td>65</td>\n",
       "      <td>35</td>\n",
       "      <td>74</td>\n",
       "      <td>12</td>\n",
       "      <td>0</td>\n",
       "      <td>0</td>\n",
       "      <td>5</td>\n",
       "      <td>9</td>\n",
       "      <td>18</td>\n",
       "      <td>63</td>\n",
       "      <td>50</td>\n",
       "      <td>80</td>\n",
       "      <td>37</td>\n",
       "      <td>45</td>\n",
       "      <td>0</td>\n",
       "      <td>0</td>\n",
       "    </tr>\n",
       "  </tbody>\n",
       "</table>\n",
       "</div>"
      ],
      "text/plain": [
       "male              0                                               1           \\\n",
       "age_grp       30-39    40-49     50-59     60-69     70-79    30-39    40-49   \n",
       "currentSmoker     0  1     0   1     0   1     0   1     0  1     0  1     0   \n",
       "TenYearCHD        0  7    23  34    65  35    74  12     0  0     5  9    18   \n",
       "\n",
       "male                                            \n",
       "age_grp           50-59     60-69     70-79     \n",
       "currentSmoker   1     0   1     0   1     0  1  \n",
       "TenYearCHD     63    50  80    37  45     0  0  "
      ]
     },
     "execution_count": 88,
     "metadata": {},
     "output_type": "execute_result"
    }
   ],
   "source": [
    "#Smoking Class\n",
    "smoking = df.groupby([\"male\", \"age_grp\",\"currentSmoker\"]).agg({\"TenYearCHD\":\"sum\"}).transpose()\n",
    "smoking"
   ]
  },
  {
   "cell_type": "code",
   "execution_count": 89,
   "metadata": {
    "colab": {
     "base_uri": "https://localhost:8080/",
     "height": 143
    },
    "id": "oep-JAkoFasd",
    "outputId": "963b72b6-21db-47bf-a98a-3308a8562c01"
   },
   "outputs": [
    {
     "data": {
      "text/html": [
       "<div>\n",
       "<style scoped>\n",
       "    .dataframe tbody tr th:only-of-type {\n",
       "        vertical-align: middle;\n",
       "    }\n",
       "\n",
       "    .dataframe tbody tr th {\n",
       "        vertical-align: top;\n",
       "    }\n",
       "\n",
       "    .dataframe thead tr th {\n",
       "        text-align: left;\n",
       "    }\n",
       "</style>\n",
       "<table border=\"1\" class=\"dataframe\">\n",
       "  <thead>\n",
       "    <tr>\n",
       "      <th>male</th>\n",
       "      <th colspan=\"10\" halign=\"left\">0</th>\n",
       "      <th colspan=\"10\" halign=\"left\">1</th>\n",
       "    </tr>\n",
       "    <tr>\n",
       "      <th>age_grp</th>\n",
       "      <th colspan=\"2\" halign=\"left\">30-39</th>\n",
       "      <th colspan=\"2\" halign=\"left\">40-49</th>\n",
       "      <th colspan=\"2\" halign=\"left\">50-59</th>\n",
       "      <th colspan=\"2\" halign=\"left\">60-69</th>\n",
       "      <th colspan=\"2\" halign=\"left\">70-79</th>\n",
       "      <th colspan=\"2\" halign=\"left\">30-39</th>\n",
       "      <th colspan=\"2\" halign=\"left\">40-49</th>\n",
       "      <th colspan=\"2\" halign=\"left\">50-59</th>\n",
       "      <th colspan=\"2\" halign=\"left\">60-69</th>\n",
       "      <th colspan=\"2\" halign=\"left\">70-79</th>\n",
       "    </tr>\n",
       "    <tr>\n",
       "      <th>diabetes</th>\n",
       "      <th>0</th>\n",
       "      <th>1</th>\n",
       "      <th>0</th>\n",
       "      <th>1</th>\n",
       "      <th>0</th>\n",
       "      <th>1</th>\n",
       "      <th>0</th>\n",
       "      <th>1</th>\n",
       "      <th>0</th>\n",
       "      <th>1</th>\n",
       "      <th>0</th>\n",
       "      <th>1</th>\n",
       "      <th>0</th>\n",
       "      <th>1</th>\n",
       "      <th>0</th>\n",
       "      <th>1</th>\n",
       "      <th>0</th>\n",
       "      <th>1</th>\n",
       "      <th>0</th>\n",
       "      <th>1</th>\n",
       "    </tr>\n",
       "  </thead>\n",
       "  <tbody>\n",
       "    <tr>\n",
       "      <th>TenYearCHD</th>\n",
       "      <td>7</td>\n",
       "      <td>0</td>\n",
       "      <td>53</td>\n",
       "      <td>4</td>\n",
       "      <td>92</td>\n",
       "      <td>8</td>\n",
       "      <td>83</td>\n",
       "      <td>3</td>\n",
       "      <td>0</td>\n",
       "      <td>0</td>\n",
       "      <td>14</td>\n",
       "      <td>0</td>\n",
       "      <td>79</td>\n",
       "      <td>2</td>\n",
       "      <td>120</td>\n",
       "      <td>10</td>\n",
       "      <td>74</td>\n",
       "      <td>8</td>\n",
       "      <td>0</td>\n",
       "      <td>0</td>\n",
       "    </tr>\n",
       "  </tbody>\n",
       "</table>\n",
       "</div>"
      ],
      "text/plain": [
       "male           0                                            1              \\\n",
       "age_grp    30-39    40-49    50-59    60-69    70-79    30-39    40-49      \n",
       "diabetes       0  1     0  1     0  1     0  1     0  1     0  1     0  1   \n",
       "TenYearCHD     7  0    53  4    92  8    83  3     0  0    14  0    79  2   \n",
       "\n",
       "male                                    \n",
       "age_grp    50-59     60-69    70-79     \n",
       "diabetes       0   1     0  1     0  1  \n",
       "TenYearCHD   120  10    74  8     0  0  "
      ]
     },
     "execution_count": 89,
     "metadata": {},
     "output_type": "execute_result"
    }
   ],
   "source": [
    "#Diabetes Class\n",
    "diabetes = df.groupby([\"male\", \"age_grp\",\"diabetes\"]).agg({\"TenYearCHD\":\"sum\"}).transpose()\n",
    "diabetes"
   ]
  },
  {
   "cell_type": "code",
   "execution_count": 90,
   "metadata": {
    "colab": {
     "base_uri": "https://localhost:8080/",
     "height": 143
    },
    "id": "s1KKXwYrCsak",
    "outputId": "c0a1d6d4-2258-4c0a-b49a-490d58786d51"
   },
   "outputs": [
    {
     "data": {
      "text/html": [
       "<div>\n",
       "<style scoped>\n",
       "    .dataframe tbody tr th:only-of-type {\n",
       "        vertical-align: middle;\n",
       "    }\n",
       "\n",
       "    .dataframe tbody tr th {\n",
       "        vertical-align: top;\n",
       "    }\n",
       "\n",
       "    .dataframe thead tr th {\n",
       "        text-align: left;\n",
       "    }\n",
       "</style>\n",
       "<table border=\"1\" class=\"dataframe\">\n",
       "  <thead>\n",
       "    <tr>\n",
       "      <th>male</th>\n",
       "      <th colspan=\"10\" halign=\"left\">0</th>\n",
       "      <th colspan=\"10\" halign=\"left\">1</th>\n",
       "    </tr>\n",
       "    <tr>\n",
       "      <th>age_grp</th>\n",
       "      <th colspan=\"2\" halign=\"left\">30-39</th>\n",
       "      <th colspan=\"2\" halign=\"left\">40-49</th>\n",
       "      <th colspan=\"2\" halign=\"left\">50-59</th>\n",
       "      <th colspan=\"2\" halign=\"left\">60-69</th>\n",
       "      <th colspan=\"2\" halign=\"left\">70-79</th>\n",
       "      <th colspan=\"2\" halign=\"left\">30-39</th>\n",
       "      <th colspan=\"2\" halign=\"left\">40-49</th>\n",
       "      <th colspan=\"2\" halign=\"left\">50-59</th>\n",
       "      <th colspan=\"2\" halign=\"left\">60-69</th>\n",
       "      <th colspan=\"2\" halign=\"left\">70-79</th>\n",
       "    </tr>\n",
       "    <tr>\n",
       "      <th>BMI</th>\n",
       "      <th>0</th>\n",
       "      <th>1</th>\n",
       "      <th>0</th>\n",
       "      <th>1</th>\n",
       "      <th>0</th>\n",
       "      <th>1</th>\n",
       "      <th>0</th>\n",
       "      <th>1</th>\n",
       "      <th>0</th>\n",
       "      <th>1</th>\n",
       "      <th>0</th>\n",
       "      <th>1</th>\n",
       "      <th>0</th>\n",
       "      <th>1</th>\n",
       "      <th>0</th>\n",
       "      <th>1</th>\n",
       "      <th>0</th>\n",
       "      <th>1</th>\n",
       "      <th>0</th>\n",
       "      <th>1</th>\n",
       "    </tr>\n",
       "  </thead>\n",
       "  <tbody>\n",
       "    <tr>\n",
       "      <th>TenYearCHD</th>\n",
       "      <td>1</td>\n",
       "      <td>6</td>\n",
       "      <td>1</td>\n",
       "      <td>56</td>\n",
       "      <td>1</td>\n",
       "      <td>99</td>\n",
       "      <td>3</td>\n",
       "      <td>83</td>\n",
       "      <td>0</td>\n",
       "      <td>0</td>\n",
       "      <td>0</td>\n",
       "      <td>14</td>\n",
       "      <td>1</td>\n",
       "      <td>80</td>\n",
       "      <td>0</td>\n",
       "      <td>130</td>\n",
       "      <td>0</td>\n",
       "      <td>82</td>\n",
       "      <td>0</td>\n",
       "      <td>0</td>\n",
       "    </tr>\n",
       "  </tbody>\n",
       "</table>\n",
       "</div>"
      ],
      "text/plain": [
       "male           0                                               1            \\\n",
       "age_grp    30-39    40-49     50-59     60-69     70-79    30-39     40-49   \n",
       "BMI            0  1     0   1     0   1     0   1     0  1     0   1     0   \n",
       "TenYearCHD     1  6     1  56     1  99     3  83     0  0     0  14     1   \n",
       "\n",
       "male                                          \n",
       "age_grp        50-59      60-69     70-79     \n",
       "BMI          1     0    1     0   1     0  1  \n",
       "TenYearCHD  80     0  130     0  82     0  0  "
      ]
     },
     "execution_count": 90,
     "metadata": {},
     "output_type": "execute_result"
    }
   ],
   "source": [
    "#Group into Obese(1) and Non-Obese(0)\n",
    "bmi_class = [1 if i >= 30 else 0 for i in range(len(df[\"BMI\"]))] #classification for obese obtained from CDC website\n",
    "df[\"BMI\"] = bmi_class\n",
    "bmi = df.groupby([\"male\",\"age_grp\",\"BMI\"]).agg({\"TenYearCHD\": \"sum\"}).transpose()\n",
    "bmi"
   ]
  },
  {
   "cell_type": "code",
   "execution_count": 91,
   "metadata": {
    "colab": {
     "base_uri": "https://localhost:8080/",
     "height": 143
    },
    "id": "wigwrLQ-q-le",
    "outputId": "d50abeeb-e767-46b3-a75c-14a41ba81254"
   },
   "outputs": [
    {
     "data": {
      "text/html": [
       "<div>\n",
       "<style scoped>\n",
       "    .dataframe tbody tr th:only-of-type {\n",
       "        vertical-align: middle;\n",
       "    }\n",
       "\n",
       "    .dataframe tbody tr th {\n",
       "        vertical-align: top;\n",
       "    }\n",
       "\n",
       "    .dataframe thead tr th {\n",
       "        text-align: left;\n",
       "    }\n",
       "</style>\n",
       "<table border=\"1\" class=\"dataframe\">\n",
       "  <thead>\n",
       "    <tr>\n",
       "      <th>male</th>\n",
       "      <th colspan=\"10\" halign=\"left\">0</th>\n",
       "      <th colspan=\"10\" halign=\"left\">1</th>\n",
       "    </tr>\n",
       "    <tr>\n",
       "      <th>age_grp</th>\n",
       "      <th colspan=\"2\" halign=\"left\">30-39</th>\n",
       "      <th colspan=\"2\" halign=\"left\">40-49</th>\n",
       "      <th colspan=\"2\" halign=\"left\">50-59</th>\n",
       "      <th colspan=\"2\" halign=\"left\">60-69</th>\n",
       "      <th colspan=\"2\" halign=\"left\">70-79</th>\n",
       "      <th colspan=\"2\" halign=\"left\">30-39</th>\n",
       "      <th colspan=\"2\" halign=\"left\">40-49</th>\n",
       "      <th colspan=\"2\" halign=\"left\">50-59</th>\n",
       "      <th colspan=\"2\" halign=\"left\">60-69</th>\n",
       "      <th colspan=\"2\" halign=\"left\">70-79</th>\n",
       "    </tr>\n",
       "    <tr>\n",
       "      <th>prevalentHyp</th>\n",
       "      <th>0</th>\n",
       "      <th>1</th>\n",
       "      <th>0</th>\n",
       "      <th>1</th>\n",
       "      <th>0</th>\n",
       "      <th>1</th>\n",
       "      <th>0</th>\n",
       "      <th>1</th>\n",
       "      <th>0</th>\n",
       "      <th>1</th>\n",
       "      <th>0</th>\n",
       "      <th>1</th>\n",
       "      <th>0</th>\n",
       "      <th>1</th>\n",
       "      <th>0</th>\n",
       "      <th>1</th>\n",
       "      <th>0</th>\n",
       "      <th>1</th>\n",
       "      <th>0</th>\n",
       "      <th>1</th>\n",
       "    </tr>\n",
       "  </thead>\n",
       "  <tbody>\n",
       "    <tr>\n",
       "      <th>TenYearCHD</th>\n",
       "      <td>5</td>\n",
       "      <td>2</td>\n",
       "      <td>42</td>\n",
       "      <td>15</td>\n",
       "      <td>39</td>\n",
       "      <td>61</td>\n",
       "      <td>21</td>\n",
       "      <td>65</td>\n",
       "      <td>0</td>\n",
       "      <td>0</td>\n",
       "      <td>11</td>\n",
       "      <td>3</td>\n",
       "      <td>48</td>\n",
       "      <td>33</td>\n",
       "      <td>69</td>\n",
       "      <td>61</td>\n",
       "      <td>38</td>\n",
       "      <td>44</td>\n",
       "      <td>0</td>\n",
       "      <td>0</td>\n",
       "    </tr>\n",
       "  </tbody>\n",
       "</table>\n",
       "</div>"
      ],
      "text/plain": [
       "male             0                                               1           \\\n",
       "age_grp      30-39    40-49     50-59     60-69     70-79    30-39    40-49   \n",
       "prevalentHyp     0  1     0   1     0   1     0   1     0  1     0  1     0   \n",
       "TenYearCHD       5  2    42  15    39  61    21  65     0  0    11  3    48   \n",
       "\n",
       "male                                           \n",
       "age_grp          50-59     60-69     70-79     \n",
       "prevalentHyp   1     0   1     0   1     0  1  \n",
       "TenYearCHD    33    69  61    38  44     0  0  "
      ]
     },
     "execution_count": 91,
     "metadata": {},
     "output_type": "execute_result"
    }
   ],
   "source": [
    "#Blood Pressure Class\n",
    "highBp = df.groupby([\"male\",\"age_grp\",\"prevalentHyp\"]).agg({\"TenYearCHD\": \"sum\"}).transpose()\n",
    "highBp"
   ]
  },
  {
   "cell_type": "markdown",
   "metadata": {
    "id": "jQ57CddVq-tB"
   },
   "source": [
    "Store Data Per Age Group and Stratify Each Group By Gender"
   ]
  },
  {
   "cell_type": "code",
   "execution_count": 92,
   "metadata": {
    "id": "agGS4lVsq-zI"
   },
   "outputs": [],
   "source": [
    "for i in range(3,8):\n",
    "  age_data = f\"data_{i}0_{i}9\" \n",
    "  exec(f'{age_data} = df[df[\"age_grp\"] == f\"{i}0-{i}9\"]')\n",
    "\n",
    "  male_data = f\"male_{i}0_{i}9\"\n",
    "  exec(f'{male_data} = {age_data}[{age_data}[\"male\"]==1]')\n",
    "\n",
    "  female_data = f\"female_{i}0_{i}9\"\n",
    "  exec(f'{female_data} = {age_data}[{age_data}[\"male\"]==0]')"
   ]
  },
  {
   "cell_type": "code",
   "execution_count": 93,
   "metadata": {
    "colab": {
     "base_uri": "https://localhost:8080/",
     "height": 176
    },
    "id": "RH0D9toiB7Yz",
    "outputId": "30ec6489-d92f-42bb-b460-77285768cdcf"
   },
   "outputs": [
    {
     "data": {
      "text/html": [
       "<div>\n",
       "<style scoped>\n",
       "    .dataframe tbody tr th:only-of-type {\n",
       "        vertical-align: middle;\n",
       "    }\n",
       "\n",
       "    .dataframe tbody tr th {\n",
       "        vertical-align: top;\n",
       "    }\n",
       "\n",
       "    .dataframe thead th {\n",
       "        text-align: right;\n",
       "    }\n",
       "</style>\n",
       "<table border=\"1\" class=\"dataframe\">\n",
       "  <thead>\n",
       "    <tr style=\"text-align: right;\">\n",
       "      <th></th>\n",
       "      <th>age_grp</th>\n",
       "      <th>male</th>\n",
       "      <th>age</th>\n",
       "      <th>education</th>\n",
       "      <th>currentSmoker</th>\n",
       "      <th>cigsPerDay</th>\n",
       "      <th>BPMeds</th>\n",
       "      <th>prevalentStroke</th>\n",
       "      <th>prevalentHyp</th>\n",
       "      <th>diabetes</th>\n",
       "      <th>totChol</th>\n",
       "      <th>sysBP</th>\n",
       "      <th>diaBP</th>\n",
       "      <th>BMI</th>\n",
       "      <th>heartRate</th>\n",
       "      <th>glucose</th>\n",
       "      <th>TenYearCHD</th>\n",
       "    </tr>\n",
       "  </thead>\n",
       "  <tbody>\n",
       "    <tr>\n",
       "      <th>3567</th>\n",
       "      <td>30-39</td>\n",
       "      <td>1</td>\n",
       "      <td>37</td>\n",
       "      <td>2.0</td>\n",
       "      <td>0</td>\n",
       "      <td>0.0</td>\n",
       "      <td>0.0</td>\n",
       "      <td>0</td>\n",
       "      <td>0</td>\n",
       "      <td>0</td>\n",
       "      <td>212.0</td>\n",
       "      <td>114.5</td>\n",
       "      <td>77.0</td>\n",
       "      <td>1</td>\n",
       "      <td>87.0</td>\n",
       "      <td>68.0</td>\n",
       "      <td>0</td>\n",
       "    </tr>\n",
       "    <tr>\n",
       "      <th>616</th>\n",
       "      <td>30-39</td>\n",
       "      <td>1</td>\n",
       "      <td>39</td>\n",
       "      <td>2.0</td>\n",
       "      <td>0</td>\n",
       "      <td>0.0</td>\n",
       "      <td>0.0</td>\n",
       "      <td>0</td>\n",
       "      <td>0</td>\n",
       "      <td>0</td>\n",
       "      <td>203.0</td>\n",
       "      <td>117.5</td>\n",
       "      <td>77.5</td>\n",
       "      <td>1</td>\n",
       "      <td>88.0</td>\n",
       "      <td>60.0</td>\n",
       "      <td>0</td>\n",
       "    </tr>\n",
       "  </tbody>\n",
       "</table>\n",
       "</div>"
      ],
      "text/plain": [
       "     age_grp  male  age  education  currentSmoker  cigsPerDay  BPMeds  \\\n",
       "3567   30-39     1   37        2.0              0         0.0     0.0   \n",
       "616    30-39     1   39        2.0              0         0.0     0.0   \n",
       "\n",
       "      prevalentStroke  prevalentHyp  diabetes  totChol  sysBP  diaBP  BMI  \\\n",
       "3567                0             0         0    212.0  114.5   77.0    1   \n",
       "616                 0             0         0    203.0  117.5   77.5    1   \n",
       "\n",
       "      heartRate  glucose  TenYearCHD  \n",
       "3567       87.0     68.0           0  \n",
       "616        88.0     60.0           0  "
      ]
     },
     "execution_count": 93,
     "metadata": {},
     "output_type": "execute_result"
    }
   ],
   "source": [
    "#check\n",
    "male_30_39.sample(2)"
   ]
  },
  {
   "cell_type": "markdown",
   "metadata": {
    "id": "EMj7Zw2WM31c"
   },
   "source": [
    "create functions for calculating adjusted risk ratio and probability values"
   ]
  },
  {
   "cell_type": "code",
   "execution_count": 94,
   "metadata": {
    "id": "dSEDBN-zOYV3"
   },
   "outputs": [],
   "source": [
    "##exposure is a string value\n",
    "def structure(data_frame, exposure, outcome):\n",
    "  a = len(data_frame[(data_frame[exposure]==1)&(data_frame[outcome]==1)])\n",
    "  b = len(data_frame[(data_frame[exposure]==1)&(data_frame[outcome]==0)])\n",
    "  c = len(data_frame[(data_frame[exposure]==0)&(data_frame[outcome]==1)])\n",
    "  d = len(data_frame[(data_frame[exposure]==0)&(data_frame[outcome]==0)])\n",
    "  tot_r1 = a+b\n",
    "  tot_r2 = c+d\n",
    "  tot_c1 = a+c\n",
    "  tot_c2 = b+d\n",
    "  tot_c3 = tot_r1 + tot_r2\n",
    "  mdl = pd.DataFrame([[a, b, tot_r1], [c, d, tot_r2], [tot_c1, tot_c2, tot_c3]], \n",
    "                              columns = [outcome, \"no_\"+outcome, \"total\"], \n",
    "                              index = [exposure, \"no_\"+exposure, \"Total\"])\n",
    "  return mdl, exposure, outcome\n",
    "\n",
    "##calculate Adjusted R\n",
    "def adj_r(data_frame, exposure, outcome):\n",
    "  model, exposure, outcome = structure(data_frame, exposure, outcome)\n",
    "  no_outcome = \"no_\"+ outcome\n",
    "  no_exposure = \"no_\"+ exposure\n",
    "  numerator = (model[outcome][exposure] * (model[outcome][no_exposure] + model[no_outcome][no_exposure]))/(model[\"total\"][\"Total\"])\n",
    "  denominator = (model[outcome][no_exposure] * (model[outcome][exposure] + model[no_outcome][exposure]))/(model[\"total\"][\"Total\"])\n",
    "  return numerator, denominator\n",
    "\n",
    "def getProba(data_frame, exposure, outcome):\n",
    "  model, exposure, outcome = structure(data_frame, exposure, outcome)\n",
    "  no_outcome = \"no_\"+outcome\n",
    "  no_exposure = \"no_\"+exposure\n",
    "  proba_outcome_given_unexposed = model[outcome][no_exposure]/model[\"total\"][no_exposure]\n",
    "  return proba_outcome_given_unexposed"
   ]
  },
  {
   "cell_type": "code",
   "execution_count": 95,
   "metadata": {
    "colab": {
     "base_uri": "https://localhost:8080/",
     "height": 143
    },
    "id": "ZailOUa9OYTb",
    "outputId": "369da315-17e5-43a3-bb96-bf51eb4757d4"
   },
   "outputs": [
    {
     "data": {
      "text/html": [
       "<div>\n",
       "<style scoped>\n",
       "    .dataframe tbody tr th:only-of-type {\n",
       "        vertical-align: middle;\n",
       "    }\n",
       "\n",
       "    .dataframe tbody tr th {\n",
       "        vertical-align: top;\n",
       "    }\n",
       "\n",
       "    .dataframe thead th {\n",
       "        text-align: right;\n",
       "    }\n",
       "</style>\n",
       "<table border=\"1\" class=\"dataframe\">\n",
       "  <thead>\n",
       "    <tr style=\"text-align: right;\">\n",
       "      <th></th>\n",
       "      <th>TenYearCHD</th>\n",
       "      <th>no_TenYearCHD</th>\n",
       "      <th>total</th>\n",
       "    </tr>\n",
       "  </thead>\n",
       "  <tbody>\n",
       "    <tr>\n",
       "      <th>currentSmoker</th>\n",
       "      <td>16</td>\n",
       "      <td>262</td>\n",
       "      <td>278</td>\n",
       "    </tr>\n",
       "    <tr>\n",
       "      <th>no_currentSmoker</th>\n",
       "      <td>5</td>\n",
       "      <td>197</td>\n",
       "      <td>202</td>\n",
       "    </tr>\n",
       "    <tr>\n",
       "      <th>Total</th>\n",
       "      <td>21</td>\n",
       "      <td>459</td>\n",
       "      <td>480</td>\n",
       "    </tr>\n",
       "  </tbody>\n",
       "</table>\n",
       "</div>"
      ],
      "text/plain": [
       "                  TenYearCHD  no_TenYearCHD  total\n",
       "currentSmoker             16            262    278\n",
       "no_currentSmoker           5            197    202\n",
       "Total                     21            459    480"
      ]
     },
     "execution_count": 95,
     "metadata": {},
     "output_type": "execute_result"
    }
   ],
   "source": [
    "#check\n",
    "structure_test = structure(data_30_39, \"currentSmoker\", \"TenYearCHD\")[0]\n",
    "structure_test"
   ]
  },
  {
   "cell_type": "markdown",
   "metadata": {
    "id": "eLNVyC0kWvV3"
   },
   "source": [
    "Further Data Processing"
   ]
  },
  {
   "cell_type": "code",
   "execution_count": 96,
   "metadata": {
    "id": "ZxgkHgG-FYJX"
   },
   "outputs": [],
   "source": [
    "#create new df for further data processing\n",
    "processed = df[[\"age_grp\", \"age\", \"currentSmoker\", \"prevalentHyp\", \"diabetes\", \"BMI\", \"TenYearCHD\"]]"
   ]
  },
  {
   "cell_type": "code",
   "execution_count": 97,
   "metadata": {
    "colab": {
     "base_uri": "https://localhost:8080/",
     "height": 81
    },
    "id": "gndG8A-zSLHI",
    "outputId": "9822438b-b2ad-41de-8c4c-47fdb6894a09"
   },
   "outputs": [
    {
     "data": {
      "text/html": [
       "<div>\n",
       "<style scoped>\n",
       "    .dataframe tbody tr th:only-of-type {\n",
       "        vertical-align: middle;\n",
       "    }\n",
       "\n",
       "    .dataframe tbody tr th {\n",
       "        vertical-align: top;\n",
       "    }\n",
       "\n",
       "    .dataframe thead th {\n",
       "        text-align: right;\n",
       "    }\n",
       "</style>\n",
       "<table border=\"1\" class=\"dataframe\">\n",
       "  <thead>\n",
       "    <tr style=\"text-align: right;\">\n",
       "      <th></th>\n",
       "      <th>age_grp</th>\n",
       "      <th>age</th>\n",
       "      <th>currentSmoker</th>\n",
       "      <th>prevalentHyp</th>\n",
       "      <th>diabetes</th>\n",
       "      <th>BMI</th>\n",
       "      <th>TenYearCHD</th>\n",
       "    </tr>\n",
       "  </thead>\n",
       "  <tbody>\n",
       "    <tr>\n",
       "      <th>3137</th>\n",
       "      <td>70-79</td>\n",
       "      <td>70</td>\n",
       "      <td>0</td>\n",
       "      <td>1</td>\n",
       "      <td>0</td>\n",
       "      <td>1</td>\n",
       "      <td>0</td>\n",
       "    </tr>\n",
       "  </tbody>\n",
       "</table>\n",
       "</div>"
      ],
      "text/plain": [
       "     age_grp  age  currentSmoker  prevalentHyp  diabetes  BMI  TenYearCHD\n",
       "3137   70-79   70              0             1         0    1           0"
      ]
     },
     "execution_count": 97,
     "metadata": {},
     "output_type": "execute_result"
    }
   ],
   "source": [
    "processed[processed[\"age\"]>=70]"
   ]
  },
  {
   "cell_type": "markdown",
   "metadata": {
    "id": "oBoAvcMuS1fS"
   },
   "source": [
    "Since there is just one person in the age group of 70-79, let us ignore that for now"
   ]
  },
  {
   "cell_type": "code",
   "execution_count": null,
   "metadata": {
    "id": "n7vGrtr2SNkf"
   },
   "outputs": [],
   "source": [
    "processed.drop(3137, axis=0, inplace=True)\n",
    "processed.reset_index(inplace=True)"
   ]
  },
  {
   "cell_type": "code",
   "execution_count": 101,
   "metadata": {
    "colab": {
     "base_uri": "https://localhost:8080/",
     "height": 81
    },
    "id": "pYRmpUBwSF2Y",
    "outputId": "3ed61b59-6448-4edf-da1b-cb5bd02cc3d7"
   },
   "outputs": [
    {
     "data": {
      "text/html": [
       "<div>\n",
       "<style scoped>\n",
       "    .dataframe tbody tr th:only-of-type {\n",
       "        vertical-align: middle;\n",
       "    }\n",
       "\n",
       "    .dataframe tbody tr th {\n",
       "        vertical-align: top;\n",
       "    }\n",
       "\n",
       "    .dataframe thead th {\n",
       "        text-align: right;\n",
       "    }\n",
       "</style>\n",
       "<table border=\"1\" class=\"dataframe\">\n",
       "  <thead>\n",
       "    <tr style=\"text-align: right;\">\n",
       "      <th></th>\n",
       "      <th>index</th>\n",
       "      <th>age_grp</th>\n",
       "      <th>age</th>\n",
       "      <th>currentSmoker</th>\n",
       "      <th>prevalentHyp</th>\n",
       "      <th>diabetes</th>\n",
       "      <th>BMI</th>\n",
       "      <th>TenYearCHD</th>\n",
       "    </tr>\n",
       "  </thead>\n",
       "  <tbody>\n",
       "    <tr>\n",
       "      <th>1863</th>\n",
       "      <td>2180</td>\n",
       "      <td>60-69</td>\n",
       "      <td>63</td>\n",
       "      <td>0</td>\n",
       "      <td>0</td>\n",
       "      <td>1</td>\n",
       "      <td>1</td>\n",
       "      <td>0</td>\n",
       "    </tr>\n",
       "    <tr>\n",
       "      <th>2206</th>\n",
       "      <td>2562</td>\n",
       "      <td>40-49</td>\n",
       "      <td>40</td>\n",
       "      <td>0</td>\n",
       "      <td>1</td>\n",
       "      <td>0</td>\n",
       "      <td>1</td>\n",
       "      <td>0</td>\n",
       "    </tr>\n",
       "  </tbody>\n",
       "</table>\n",
       "</div>"
      ],
      "text/plain": [
       "      index age_grp  age  currentSmoker  prevalentHyp  diabetes  BMI  \\\n",
       "1863   2180   60-69   63              0             0         1    1   \n",
       "2206   2562   40-49   40              0             1         0    1   \n",
       "\n",
       "      TenYearCHD  \n",
       "1863           0  \n",
       "2206           0  "
      ]
     },
     "execution_count": 101,
     "metadata": {},
     "output_type": "execute_result"
    }
   ],
   "source": [
    "processed.sample(2)"
   ]
  },
  {
   "cell_type": "markdown",
   "metadata": {
    "id": "5LHGo5L6MHJp"
   },
   "source": [
    "Change values of Exposure Variables in Processed Table to Probability values such that probability of exposed individuals in each age group is a multiple of the probability values of unexposed individuals given that confounding has been taken into consideration"
   ]
  },
  {
   "cell_type": "code",
   "execution_count": null,
   "metadata": {
    "id": "hYhhK7eDT6xO",
    "tags": []
   },
   "outputs": [],
   "source": [
    "#calculating Risk Ratios, Adjusted_Risk Ratios and Probabilities\n",
    "\n",
    "exposures = [\"currentSmoker\", \"prevalentHyp\", \"diabetes\", \"BMI\"]\n",
    "\n",
    "for i in range(len(exposures)):\n",
    "  #Age 30-39\n",
    "  male_RRnum_30_39, male_RRdenom_30_39 = adj_r(male_30_39, exposures[i], \"TenYearCHD\")\n",
    "  female_RRnum_30_39, female_RRdenom_30_39 = adj_r(female_30_39, exposures[i], \"TenYearCHD\")\n",
    "  adjusted_R_30_39 = (male_RRnum_30_39 + female_RRnum_30_39)/(male_RRdenom_30_39 + female_RRdenom_30_39)\n",
    "\n",
    "  #Age 40-49\n",
    "  male_RRnum_40_49, male_RRdenom_40_49 = adj_r(male_40_49, exposures[i], \"TenYearCHD\")\n",
    "  female_RRnum_40_49, female_RRdenom_40_49 = adj_r(female_40_49, exposures[i], \"TenYearCHD\")\n",
    "  adjusted_R_40_49 = (male_RRnum_40_49 + female_RRnum_40_49)/(male_RRdenom_40_49 + female_RRdenom_40_49)\n",
    "\n",
    "  #Age 50-59\n",
    "  male_RRnum_50_59, male_RRdenom_50_59 = adj_r(male_50_59, exposures[i], \"TenYearCHD\")\n",
    "  female_RRnum_50_59, female_RRdenom_50_59 = adj_r(female_50_59, exposures[i], \"TenYearCHD\")\n",
    "  adjusted_R_50_59 = (male_RRnum_50_59 + female_RRnum_50_59)/(male_RRdenom_50_59 + female_RRdenom_50_59)\n",
    "\n",
    "  #Age 60-69\n",
    "  male_RRnum_60_69, male_RRdenom_60_69 = adj_r(male_60_69, exposures[i], \"TenYearCHD\")\n",
    "  female_RRnum_60_69, female_RRdenom_60_69 = adj_r(female_60_69, exposures[i], \"TenYearCHD\")\n",
    "  adjusted_R_60_69 = (male_RRnum_60_69 + female_RRnum_60_69)/(male_RRdenom_60_69 + female_RRdenom_60_69)\n",
    "\n",
    "  for j in range(len(processed)):\n",
    "    #Age 30-39\n",
    "    if processed[\"age_grp\"][j] == \"30-39\" and processed[exposures[i]][j]==0:\n",
    "      processed.loc[j, exposures[i]] = getProba(data_30_39, exposures[i], \"TenYearCHD\")\n",
    "    elif processed[\"age_grp\"][j] == \"30-39\" and processed[exposures[i]][j]==1:\n",
    "      processed.loc[j, exposures[i]] = getProba(data_30_39, exposures[i], \"TenYearCHD\")* adjusted_R_30_39\n",
    "  \n",
    "    #Age 40-49\n",
    "    elif processed[\"age_grp\"][j] == \"40-49\" and processed[exposures[i]][j]==0:\n",
    "      processed.loc[j, exposures[i]] = getProba(data_40_49, exposures[i], \"TenYearCHD\")\n",
    "    elif processed[\"age_grp\"][j] == \"40-49\" and processed[exposures[i]][j]==1:\n",
    "      processed.loc[j, exposures[i]] = getProba(data_40_49, exposures[i], \"TenYearCHD\")* adjusted_R_40_49\n",
    "  \n",
    "    #Age 50-59\n",
    "    elif processed[\"age_grp\"][j] == \"50-59\" and processed[exposures[i]][j]==0:\n",
    "      processed.loc[j, exposures[i]] = getProba(data_50_59, exposures[i], \"TenYearCHD\")\n",
    "    elif processed[\"age_grp\"][j] == \"50-59\" and processed[exposures[i]][j]==1:\n",
    "      processed.loc[j, exposures[i]] = getProba(data_50_59, exposures[i], \"TenYearCHD\")* adjusted_R_50_59\n",
    "\n",
    "    #Age 60-69\n",
    "    elif processed[\"age_grp\"][j] == \"60-69\" and processed[exposures[i]][j]==0:\n",
    "      processed.loc[j, exposures[i]] = getProba(data_60_69, exposures[i], \"TenYearCHD\")\n",
    "    elif processed[\"age_grp\"][j] == \"60-69\" and processed[exposures[i]][j]==1:\n",
    "      processed.loc[j, exposures[i]] = getProba(data_60_69, exposures[i], \"TenYearCHD\")* adjusted_R_60_69"
   ]
  },
  {
   "cell_type": "markdown",
   "metadata": {
    "id": "9rXt1o49cLgq"
   },
   "source": [
    "New Prediction Using Processed Table"
   ]
  },
  {
   "cell_type": "code",
   "execution_count": 106,
   "metadata": {
    "colab": {
     "base_uri": "https://localhost:8080/"
    },
    "id": "O1_JwjveWAjB",
    "outputId": "6f4f76c4-09fd-40bf-c135-514ece7e14b4"
   },
   "outputs": [
    {
     "name": "stdout",
     "output_type": "stream",
     "text": [
      "Percentage Accuracy\t37.47747747747748\n"
     ]
    }
   ],
   "source": [
    "#x and y variables for processed table\n",
    "x_pr = processed[[\"age\",\"currentSmoker\", \"prevalentHyp\", \"diabetes\", \"BMI\"]]\n",
    "y_pr = processed[\"TenYearCHD\"]\n",
    "\n",
    "#train_test_split for processed table\n",
    "x_train_pr, x_test_pr, y_train_pr, y_test_pr = tts(x_pr, y_pr, test_size=0.4, random_state=4)\n",
    "\n",
    "#predict TenYearCHD using LogisticRegression\n",
    "model_pr = LogisticRegression().fit(x_train_pr, y_train_pr)\n",
    "\n",
    "#classification threshold = 0.2\n",
    "prob_pr = model_pr.predict_proba(x_test_pr)[:, 1]\n",
    "y_hat_pr = [1 if prob_pr[i] >= 0.2 else 0 for i in range(len(prob_pr))]\n",
    "print(\"Percentage Accuracy\\t\"+ str(f1_score(y_test_pr, y_hat_pr)*100))"
   ]
  }
 ],
 "metadata": {
  "colab": {
   "provenance": []
  },
  "kernelspec": {
   "display_name": "Python 3 (ipykernel)",
   "language": "python",
   "name": "python3"
  },
  "language_info": {
   "codemirror_mode": {
    "name": "ipython",
    "version": 3
   },
   "file_extension": ".py",
   "mimetype": "text/x-python",
   "name": "python",
   "nbconvert_exporter": "python",
   "pygments_lexer": "ipython3",
   "version": "3.9.13"
  }
 },
 "nbformat": 4,
 "nbformat_minor": 4
}
