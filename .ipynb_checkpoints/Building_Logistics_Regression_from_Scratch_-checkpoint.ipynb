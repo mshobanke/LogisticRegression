{
  "nbformat": 4,
  "nbformat_minor": 0,
  "metadata": {
    "colab": {
      "provenance": []
    },
    "kernelspec": {
      "name": "python3",
      "display_name": "Python 3"
    },
    "language_info": {
      "name": "python"
    }
  },
  "cells": [
    {
      "cell_type": "code",
      "execution_count": 1,
      "metadata": {
        "id": "ihAN2YLvVKAb"
      },
      "outputs": [],
      "source": [
        "import pandas as pd\n",
        "import numpy as np\n",
        "import seaborn as sns\n",
        "import matplotlib.pyplot as plt\n",
        "import math"
      ]
    },
    {
      "cell_type": "code",
      "source": [
        "#standardize x_variables to a variance and std of 1 for all indepedent variables\n",
        "def standardize(data):\n",
        "  data = pd.DataFrame(data)\n",
        "  for i in data.columns:\n",
        "    mean_value = data[i].mean()\n",
        "    std_value = data[i].std()\n",
        "    data[i] = (data[i] - mean_value)/std_value\n",
        "  return data"
      ],
      "metadata": {
        "id": "gBJle4xWVMn8"
      },
      "execution_count": 2,
      "outputs": []
    },
    {
      "cell_type": "code",
      "source": [
        "#transform data to include dummy column to cater for Beta-not(intercept) on log of odds equation\n",
        "def data_transform(x):\n",
        "  model_x = np.c_[np.ones(shape=(x.shape[0],1)),x]\n",
        "  return model_x"
      ],
      "metadata": {
        "id": "_K2CpPXIVOo3"
      },
      "execution_count": 3,
      "outputs": []
    },
    {
      "cell_type": "code",
      "source": [
        "#model build function\n",
        "def model(x, y):\n",
        "  beta = np.zeros(shape=(data_transform(x).shape[1],1))\n",
        "  x = data_transform(x)\n",
        "  y = np.array(y).reshape(len(y), 1)\n",
        "  return x, y, beta"
      ],
      "metadata": {
        "id": "Ud8wL1zxVVVt"
      },
      "execution_count": 4,
      "outputs": []
    },
    {
      "cell_type": "code",
      "source": [
        "#sigmoid function for estimation of predicted value\n",
        "def sigmoid(z):\n",
        "  return 1/(1+np.exp(-z))"
      ],
      "metadata": {
        "id": "_-T5v8uvVWfC"
      },
      "execution_count": 5,
      "outputs": []
    },
    {
      "cell_type": "code",
      "source": [
        "def costfunction(beta, x, y): \n",
        "  epsilon = 0.00000000000000000000000000001\n",
        "  y_hat = sigmoid(np.dot(x, beta))\n",
        "  c_y = y*np.log(y_hat+epsilon)\n",
        "  c_yi = (1-y)*np.log(1-y_hat+epsilon)\n",
        "  cost_function = -sum(c_y+c_yi)/len(x)\n",
        "  return cost_function"
      ],
      "metadata": {
        "id": "2CJFX7lrVa5j"
      },
      "execution_count": 6,
      "outputs": []
    },
    {
      "cell_type": "code",
      "source": [
        "def logFit(x, y, beta):\n",
        "  learning_rate = 0.1\n",
        "  cost_func_list = [100000000, 10000000]\n",
        "  loss = []\n",
        "  while x.shape[1] > 0:\n",
        "    y_hat = sigmoid(np.dot(x, beta))\n",
        "    x_u = (learning_rate*np.subtract(y_hat, y))/len(x)\n",
        "    beta -= np.dot(x.transpose(), x_u)\n",
        "  #cost_function:\n",
        "    cost_func = costfunction(beta, x, y)\n",
        "    cost_func_list.append(cost_func)\n",
        "    loss.append(cost_func)\n",
        "    if cost_func_list[-1]>cost_func_list[-2]:\n",
        "      break\n",
        "    if cost_func_list[-1] == 0:\n",
        "      break\n",
        "    if cost_func_list[-1] < 0:\n",
        "      break\n",
        "  return beta, loss"
      ],
      "metadata": {
        "id": "tQy9zpcJVd_S"
      },
      "execution_count": 7,
      "outputs": []
    },
    {
      "cell_type": "code",
      "source": [
        "def logPredict(x, beta):\n",
        "  y_hat_new = np.dot(x, beta)\n",
        "  y_predict = sigmoid(y_hat_new)\n",
        "  for i in range(len(y_predict)):\n",
        "    if y_predict[i] > 0.2:\n",
        "      y_predict[i] = 1    \n",
        "    else:\n",
        "      y_predict[i] = 0\n",
        "  return y_predict"
      ],
      "metadata": {
        "id": "WfsE7sPAVgnl"
      },
      "execution_count": 8,
      "outputs": []
    },
    {
      "cell_type": "code",
      "source": [
        "#building confusion matrix\n",
        "def confusion(y,y_hat):\n",
        "  import pandas as pd\n",
        "  df = pd.DataFrame(y)\n",
        "  df[\"y_hat\"] = y_hat\n",
        "  df.columns = [\"actual\", \"predicted\"]\n",
        "  tp = len(df[(df[\"actual\"]==1)&(df[\"predicted\"]==1)])\n",
        "  fp = len(df[(df[\"actual\"]==0)&(df[\"predicted\"]==1)])\n",
        "  fn = len(df[(df[\"actual\"]==1)&(df[\"predicted\"]==0)])\n",
        "  tn = len(df[(df[\"actual\"]==0)&(df[\"predicted\"]==0)])\n",
        "  return tp, fp, fn, tn\n",
        "\n",
        "def confusionMatrix(y, y_hat):\n",
        "  tp, fp, fn, tn = confusion(y,y_hat)\n",
        "  matrix = pd.DataFrame([[tp, fp],[fn, tn]])\n",
        "  matrix.columns = [\"Actual Positive,\", \"Actual Negative\"]\n",
        "  matrix.index = [\"Predicted Positive\", \"Predicted Negative\"]\n",
        "  return matrix"
      ],
      "metadata": {
        "id": "_9Ga7rtMVjAu"
      },
      "execution_count": 9,
      "outputs": []
    },
    {
      "cell_type": "code",
      "source": [
        "#accuracy calculation\n",
        "def precision(y,y_hat):\n",
        "  tp, fp, fn, tn = confusion(y,y_hat)\n",
        "  prec = tp/(tp+fp)\n",
        "  return prec\n",
        "\n",
        "def recall(y,y_hat):\n",
        "  tp, fp, fn, tn = confusion(y,y_hat)\n",
        "  rec = tp/(tp+fn)\n",
        "  return rec\n",
        "\n",
        "def f1Score(y,y_hat):\n",
        "  preci = precision(y,y_hat)\n",
        "  reca = recall(y,y_hat)\n",
        "  f_score = (2 * preci * reca)/(preci+reca)\n",
        "  return f_score"
      ],
      "metadata": {
        "id": "CLDeK9qQVlnL"
      },
      "execution_count": 10,
      "outputs": []
    },
    {
      "cell_type": "markdown",
      "source": [
        "###How to Use\n",
        "1. Data Wrangling, and specify \"X\" and \"Y\" - Action to be carried out by user\n",
        "\n",
        "2. Build new model for log regression using:\n",
        "* x, y, beta = model(X, Y)\n",
        "\n",
        "3. Fit Data using:\n",
        "* beta, loss = logFit(x, y, beta)\n",
        "4. Predict Binary Output using\n",
        "* y_hat = logPredict(x, beta)\n",
        "\n",
        "5. If you wish to see loss graph\n",
        "* plt.plot(loss)\n",
        "\n",
        "6. check accuracy using using:\n",
        "* f_score = f1score(y,y_hat)\n",
        "\n",
        "7. check confusion matrix using:\n",
        "* confusionMatrix(y,y_hat)"
      ],
      "metadata": {
        "id": "RmyrDQv4VnsB"
      }
    }
  ]
}